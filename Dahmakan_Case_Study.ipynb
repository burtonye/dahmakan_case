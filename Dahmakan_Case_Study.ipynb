{
  "nbformat": 4,
  "nbformat_minor": 0,
  "metadata": {
    "colab": {
      "name": "Dahmakan Case Study.ipynb",
      "provenance": [],
      "collapsed_sections": [],
      "authorship_tag": "ABX9TyO1AFozoRz+Er+AfdZPy3vr",
      "include_colab_link": true
    },
    "kernelspec": {
      "name": "python3",
      "display_name": "Python 3"
    }
  },
  "cells": [
    {
      "cell_type": "markdown",
      "metadata": {
        "id": "view-in-github",
        "colab_type": "text"
      },
      "source": [
        "<a href=\"https://colab.research.google.com/github/burtonye/dahmakan_case/blob/master/Dahmakan_Case_Study.ipynb\" target=\"_parent\"><img src=\"https://colab.research.google.com/assets/colab-badge.svg\" alt=\"Open In Colab\"/></a>"
      ]
    },
    {
      "cell_type": "code",
      "metadata": {
        "id": "f9ifwI2voPQ9",
        "colab_type": "code",
        "colab": {}
      },
      "source": [
        "import pandas as pd\n",
        "import numpy as np\n",
        "import warnings\n",
        "warnings.simplefilter(action='ignore', category=FutureWarning)\n",
        "url = 'https://raw.githubusercontent.com/burtonye/dahmakan_case/master/Copy%20of%20dahmakan%20analytics%20case%20study%20%5BBurton%20Ye%5D%20-%20Data.csv?token=ADMXF3J47NSNESC45QHYE426LKF3C'\n",
        "df1 = pd.read_csv(url)"
      ],
      "execution_count": 0,
      "outputs": []
    },
    {
      "cell_type": "code",
      "metadata": {
        "id": "gz8fehfrKcQi",
        "colab_type": "code",
        "colab": {}
      },
      "source": [
        "timedel = pd.to_datetime(df1['actual_last_delivered_time'])-pd.to_datetime(df1['actual_start_time'])\n",
        "df1['time_elapsed']=timedel.apply(lambda x: x.seconds/3600)"
      ],
      "execution_count": 0,
      "outputs": []
    },
    {
      "cell_type": "markdown",
      "metadata": {
        "colab_type": "text",
        "id": "b5LSOELoe29a"
      },
      "source": [
        "# I: On Time Delivery%\n",
        "\n",
        "Steps are: \n",
        "1. Group delivery metrics by rider_id \n",
        "2. Filter >20 rides as FT\n",
        "3. Calculate On Time Delivery %\n",
        "\n"
      ]
    },
    {
      "cell_type": "code",
      "metadata": {
        "id": "6Yk9-yO7e4er",
        "colab_type": "code",
        "colab": {}
      },
      "source": [
        "df = df1.groupby(['rider_id']).sum()"
      ],
      "execution_count": 0,
      "outputs": []
    },
    {
      "cell_type": "code",
      "metadata": {
        "id": "CQkSJXuamnK3",
        "colab_type": "code",
        "colab": {}
      },
      "source": [
        "df_ft_riders = df[df['total_deliveries']>20]\n",
        "\n",
        "data= df_ft_riders['ontime_deliveries']/df_ft_riders['completed_deliveries']\n",
        "df_ft_riders['On_time_delivery%'] = data\n"
      ],
      "execution_count": 0,
      "outputs": []
    },
    {
      "cell_type": "markdown",
      "metadata": {
        "id": "148-eaP0S9W1",
        "colab_type": "text"
      },
      "source": [
        "# II: Calculate Deliveries per Hour\n",
        "\n",
        "1. DPH = The no. of completed deliveries / total no. of hours worked\"\n",
        "2. Segment Good_Bad based on OTD%\n",
        "3. Find average based on two groups"
      ]
    },
    {
      "cell_type": "code",
      "metadata": {
        "id": "V-6bT5L8q7yu",
        "colab_type": "code",
        "outputId": "fa717ed7-d19a-4ad8-d8e3-3b8f93563be8",
        "colab": {
          "base_uri": "https://localhost:8080/",
          "height": 51
        }
      },
      "source": [
        "df_ft_riders['Good_Bad'] = ['Good' if x >= 0.9 else 'Bad' for x in df_ft_riders['On_time_delivery%']]\n",
        "\n",
        "print(\"There are\",df_ft_riders['Good_Bad'][df_ft_riders['Good_Bad'] == 'Good'].count(),\"good riders\")\n",
        "print(\"There are\",df_ft_riders['Good_Bad'][df_ft_riders['Good_Bad'] == 'Bad'].count(),\"bad riders\") "
      ],
      "execution_count": 129,
      "outputs": [
        {
          "output_type": "stream",
          "text": [
            "There are 12 good riders\n",
            "There are 157 bad riders\n"
          ],
          "name": "stdout"
        }
      ]
    },
    {
      "cell_type": "code",
      "metadata": {
        "id": "Qb3BqLckWFMy",
        "colab_type": "code",
        "colab": {}
      },
      "source": [
        "df_ft_riders['DPH'] = df_ft_riders['completed_deliveries']/df_ft_riders['time_elapsed']"
      ],
      "execution_count": 0,
      "outputs": []
    },
    {
      "cell_type": "code",
      "metadata": {
        "id": "vqVO4ESQrcAI",
        "colab_type": "code",
        "outputId": "16c4e867-02b8-49b6-d0aa-2294fc41e6d2",
        "colab": {
          "base_uri": "https://localhost:8080/",
          "height": 51
        }
      },
      "source": [
        "print(\"The avg DPH is\",round(df_ft_riders['DPH'][df_ft_riders['Good_Bad'] == 'Good'].mean(),2),\"for good riders\")\n",
        "print(\"The avg DPH is\",round(df_ft_riders['DPH'][df_ft_riders['Good_Bad'] == 'Bad'].mean(),2) ,\"for bad  riders\") "
      ],
      "execution_count": 131,
      "outputs": [
        {
          "output_type": "stream",
          "text": [
            "The avg DPH is 5.32 for good riders\n",
            "The avg DPH is 4.05 for bad  riders\n"
          ],
          "name": "stdout"
        }
      ]
    },
    {
      "cell_type": "markdown",
      "metadata": {
        "id": "fL90NsEuXCzN",
        "colab_type": "text"
      },
      "source": [
        "# 4. Top 3 metrics to depict Good from Bad\n",
        "1. Find mean of each of the provided columns in Full time riders dataframe\n",
        "2. Identify metrics with large difference between Good and Bad\n"
      ]
    },
    {
      "cell_type": "code",
      "metadata": {
        "id": "5PZZ7x1c2USd",
        "colab_type": "code",
        "outputId": "47a0ca3a-65d1-4e25-df85-c7a0b4879ceb",
        "colab": {
          "base_uri": "https://localhost:8080/",
          "height": 578
        }
      },
      "source": [
        "print(df_ft_riders[df_ft_riders['Good_Bad']=='Good'].mean())\n",
        "print()\n",
        "print(df_ft_riders[df_ft_riders['Good_Bad']=='Bad'].mean())\n",
        "#cancelled_deliveries: 2.3 vs 4.1\n",
        "#delayed_deliveries 5.8 vs 24.2\n",
        "#delay_min per drop 68 vs 215\n",
        "#avg_service_mins 73 vs 83\n"
      ],
      "execution_count": 116,
      "outputs": [
        {
          "output_type": "stream",
          "text": [
            "total_deliveries             103.166667\n",
            "completed_deliveries         100.833333\n",
            "cancelled_deliveries           2.333333\n",
            "ontime_deliveries             95.000000\n",
            "delayed_deliveries             5.833333\n",
            "uncontactable_customers        2.083333\n",
            "total_customers              101.916667\n",
            "total_meal                   174.166667\n",
            "total_meal_revenue         36804.933333\n",
            "delay_min_per_drop            68.083333\n",
            "avg_rider_rating              80.088333\n",
            "avg_service_mins              73.015000\n",
            "time_elapsed                  18.070833\n",
            "On_time_delivery%              0.944642\n",
            "DPH                            5.323406\n",
            "dtype: float64\n",
            "\n",
            "total_deliveries              91.917197\n",
            "completed_deliveries          87.821656\n",
            "cancelled_deliveries           4.095541\n",
            "ontime_deliveries             63.579618\n",
            "delayed_deliveries            24.242038\n",
            "uncontactable_customers        2.878981\n",
            "total_customers               90.713376\n",
            "total_meal                   159.401274\n",
            "total_meal_revenue         37938.310191\n",
            "delay_min_per_drop           215.286624\n",
            "avg_rider_rating              71.573248\n",
            "avg_service_mins              83.022611\n",
            "time_elapsed                  21.285669\n",
            "On_time_delivery%              0.691675\n",
            "DPH                            4.051441\n",
            "dtype: float64\n"
          ],
          "name": "stdout"
        }
      ]
    },
    {
      "cell_type": "markdown",
      "metadata": {
        "id": "JZ7ugpksXWxg",
        "colab_type": "text"
      },
      "source": [
        "# 6. Calculating Payment structure for riders\n",
        "1. Define a function pricing to factor in the pricing table\n",
        "2. Append that to dataframe\n",
        "3. Calculate # of routes, # of meals, and # of hours\n",
        "4. Divide by each of the factors and find the median for Ft and PT and then the overall average\n"
      ]
    },
    {
      "cell_type": "code",
      "metadata": {
        "id": "VxgGz3B5E2dQ",
        "colab_type": "code",
        "colab": {}
      },
      "source": [
        "ft_riders = list(df_ft_riders.index) #ft riders\n",
        "def pricing(data,index=0):\n",
        "  price = 15\n",
        "  x = data.iloc[index]['ontime_deliveries']\n",
        "  y = data.iloc[index]['completed_deliveries']\n",
        "  price += 1 * y\n",
        "  if x/y >= 0.95:\n",
        "    price += 0.5*y\n",
        "  elif x/y >= 0.9:\n",
        "    price += 0.25*y\n",
        "  elif x/y >= 0.8:\n",
        "    price += 0\n",
        "  else:\n",
        "    price += -0.3*y\n",
        "  if data.iloc[index][\"rider_id\"] in ft_riders:\n",
        "    if y > 14:\n",
        "      price +=75\n",
        "    else:\n",
        "      price +=40\n",
        "  else:\n",
        "    price +=0\n",
        "  return price\n",
        "\n",
        "pricing_list = []\n",
        "for i in np.arange(df1.shape[0]):\n",
        "  pricing_list.append(pricing(df1,i))\n",
        "df1['pricing']= pd.Series(pricing_list)"
      ],
      "execution_count": 0,
      "outputs": []
    },
    {
      "cell_type": "code",
      "metadata": {
        "id": "KP_ltshVOFl4",
        "colab_type": "code",
        "outputId": "08938b4f-1a49-4b6b-c0ee-e95716821e30",
        "colab": {
          "base_uri": "https://localhost:8080/",
          "height": 306
        }
      },
      "source": [
        "df1['route'] = 1\n",
        "df = df1.groupby(['rider_id']).sum()\n",
        "df_pt_riders = df[df['total_deliveries']<20]\n",
        "df_ft_riders = df[df['total_deliveries']>20]\n",
        "df_ft_riders.head()"
      ],
      "execution_count": 118,
      "outputs": [
        {
          "output_type": "execute_result",
          "data": {
            "text/html": [
              "<div>\n",
              "<style scoped>\n",
              "    .dataframe tbody tr th:only-of-type {\n",
              "        vertical-align: middle;\n",
              "    }\n",
              "\n",
              "    .dataframe tbody tr th {\n",
              "        vertical-align: top;\n",
              "    }\n",
              "\n",
              "    .dataframe thead th {\n",
              "        text-align: right;\n",
              "    }\n",
              "</style>\n",
              "<table border=\"1\" class=\"dataframe\">\n",
              "  <thead>\n",
              "    <tr style=\"text-align: right;\">\n",
              "      <th></th>\n",
              "      <th>total_deliveries</th>\n",
              "      <th>completed_deliveries</th>\n",
              "      <th>cancelled_deliveries</th>\n",
              "      <th>ontime_deliveries</th>\n",
              "      <th>delayed_deliveries</th>\n",
              "      <th>uncontactable_customers</th>\n",
              "      <th>total_customers</th>\n",
              "      <th>total_meal</th>\n",
              "      <th>total_meal_revenue</th>\n",
              "      <th>delay_min_per_drop</th>\n",
              "      <th>avg_rider_rating</th>\n",
              "      <th>avg_service_mins</th>\n",
              "      <th>time_elapsed</th>\n",
              "      <th>pricing</th>\n",
              "      <th>route</th>\n",
              "    </tr>\n",
              "    <tr>\n",
              "      <th>rider_id</th>\n",
              "      <th></th>\n",
              "      <th></th>\n",
              "      <th></th>\n",
              "      <th></th>\n",
              "      <th></th>\n",
              "      <th></th>\n",
              "      <th></th>\n",
              "      <th></th>\n",
              "      <th></th>\n",
              "      <th></th>\n",
              "      <th></th>\n",
              "      <th></th>\n",
              "      <th></th>\n",
              "      <th></th>\n",
              "      <th></th>\n",
              "    </tr>\n",
              "  </thead>\n",
              "  <tbody>\n",
              "    <tr>\n",
              "      <th>Rider 1</th>\n",
              "      <td>130</td>\n",
              "      <td>126</td>\n",
              "      <td>4</td>\n",
              "      <td>101</td>\n",
              "      <td>25</td>\n",
              "      <td>3</td>\n",
              "      <td>125</td>\n",
              "      <td>232</td>\n",
              "      <td>56045.8</td>\n",
              "      <td>291.0</td>\n",
              "      <td>104.12</td>\n",
              "      <td>113.00</td>\n",
              "      <td>26.866667</td>\n",
              "      <td>1463.5</td>\n",
              "      <td>24</td>\n",
              "    </tr>\n",
              "    <tr>\n",
              "      <th>Rider 10</th>\n",
              "      <td>264</td>\n",
              "      <td>259</td>\n",
              "      <td>5</td>\n",
              "      <td>232</td>\n",
              "      <td>27</td>\n",
              "      <td>2</td>\n",
              "      <td>258</td>\n",
              "      <td>443</td>\n",
              "      <td>102063.6</td>\n",
              "      <td>166.0</td>\n",
              "      <td>146.97</td>\n",
              "      <td>148.61</td>\n",
              "      <td>33.600000</td>\n",
              "      <td>2210.0</td>\n",
              "      <td>32</td>\n",
              "    </tr>\n",
              "    <tr>\n",
              "      <th>Rider 100</th>\n",
              "      <td>128</td>\n",
              "      <td>120</td>\n",
              "      <td>8</td>\n",
              "      <td>95</td>\n",
              "      <td>25</td>\n",
              "      <td>1</td>\n",
              "      <td>126</td>\n",
              "      <td>215</td>\n",
              "      <td>32853.5</td>\n",
              "      <td>285.0</td>\n",
              "      <td>103.36</td>\n",
              "      <td>99.07</td>\n",
              "      <td>27.483333</td>\n",
              "      <td>1341.1</td>\n",
              "      <td>22</td>\n",
              "    </tr>\n",
              "    <tr>\n",
              "      <th>Rider 101</th>\n",
              "      <td>62</td>\n",
              "      <td>57</td>\n",
              "      <td>5</td>\n",
              "      <td>40</td>\n",
              "      <td>17</td>\n",
              "      <td>3</td>\n",
              "      <td>62</td>\n",
              "      <td>92</td>\n",
              "      <td>15681.3</td>\n",
              "      <td>147.0</td>\n",
              "      <td>45.66</td>\n",
              "      <td>47.22</td>\n",
              "      <td>14.516667</td>\n",
              "      <td>665.9</td>\n",
              "      <td>11</td>\n",
              "    </tr>\n",
              "    <tr>\n",
              "      <th>Rider 102</th>\n",
              "      <td>79</td>\n",
              "      <td>69</td>\n",
              "      <td>10</td>\n",
              "      <td>57</td>\n",
              "      <td>12</td>\n",
              "      <td>3</td>\n",
              "      <td>76</td>\n",
              "      <td>123</td>\n",
              "      <td>20245.4</td>\n",
              "      <td>140.0</td>\n",
              "      <td>51.75</td>\n",
              "      <td>46.73</td>\n",
              "      <td>15.966667</td>\n",
              "      <td>735.1</td>\n",
              "      <td>12</td>\n",
              "    </tr>\n",
              "  </tbody>\n",
              "</table>\n",
              "</div>"
            ],
            "text/plain": [
              "           total_deliveries  completed_deliveries  ...  pricing  route\n",
              "rider_id                                           ...                \n",
              "Rider 1                 130                   126  ...   1463.5     24\n",
              "Rider 10                264                   259  ...   2210.0     32\n",
              "Rider 100               128                   120  ...   1341.1     22\n",
              "Rider 101                62                    57  ...    665.9     11\n",
              "Rider 102                79                    69  ...    735.1     12\n",
              "\n",
              "[5 rows x 15 columns]"
            ]
          },
          "metadata": {
            "tags": []
          },
          "execution_count": 118
        }
      ]
    },
    {
      "cell_type": "code",
      "metadata": {
        "id": "wvYCrmQHWLuG",
        "colab_type": "code",
        "colab": {}
      },
      "source": [
        "#Pay/route 6a-6c\n",
        "\n",
        "df_ft_riders['pay/route'] = df_ft_riders['pricing']/df_ft_riders['route']\n",
        "six_a = np.median(df_ft_riders['pay/route'].tolist())\n",
        "\n",
        "df_pt_riders['pay/route'] = df_pt_riders['pricing']/df_pt_riders['route']\n",
        "six_b = np.median(df_pt_riders['pay/route'].tolist())\n",
        "\n",
        "six_c = np.mean(df_pt_riders['pay/route'].tolist() + df_ft_riders['pay/route'].tolist())\n",
        "\n",
        "# Pay/meal 6d-6f\n",
        "\n",
        "df_ft_riders['pay/meal'] = df_ft_riders['pricing']/df_ft_riders['total_meal']\n",
        "six_d = np.median(df_ft_riders['pay/meal'].tolist())\n",
        "\n",
        "df_pt_riders['pay/meal'] = df_pt_riders['pricing']/df_pt_riders['total_meal']\n",
        "six_e = np.median(df_pt_riders['pay/meal'].tolist())\n",
        "\n",
        "six_f = np.mean(df_pt_riders['pay/meal'].tolist() + df_ft_riders['pay/meal'].tolist())\n",
        "\n",
        "# Pay/hour 6g-6i\n",
        "\n",
        "df_ft_riders['pay/hr'] = df_ft_riders['pricing']/df_ft_riders['time_elapsed']\n",
        "six_g = np.median(df_ft_riders['pay/hr'].tolist())\n",
        "\n",
        "df_pt_riders['pay/hr'] = df_pt_riders['pricing']/df_pt_riders['time_elapsed']\n",
        "df_pt_riders = df_pt_riders.replace([np.inf], 0)  #edge case of Rider 20\n",
        "six_h = np.median(df_pt_riders['pay/hr'].tolist())\n",
        "\n",
        "six_i = np.mean(df_pt_riders['pay/hr'].tolist() + df_ft_riders['pay/hr'].tolist())"
      ],
      "execution_count": 0,
      "outputs": []
    },
    {
      "cell_type": "code",
      "metadata": {
        "id": "pA0gxIoZVfAS",
        "colab_type": "code",
        "colab": {
          "base_uri": "https://localhost:8080/",
          "height": 170
        },
        "outputId": "21ea7cfa-98b9-4500-fd13-a34220d18657"
      },
      "source": [
        "#Outputs for Question 6\n",
        "\n",
        "print(\"Median FT pay/meal: \", round(six_a,2))\n",
        "print(\"Median PT pay/meal: \", round(six_b,2))\n",
        "print(\"Avg pay/meal: \", round(six_c,2))\n",
        "\n",
        "print(\"Median FT pay/meal: \", round(six_d,2))\n",
        "print(\"Median PT pay/meal: \", round(six_e,2))\n",
        "print(\"Avg pay/meal: \", round(six_f,2))\n",
        "\n",
        "print(\"median FT pay/hour: \", round(six_g,2))\n",
        "print(\"Median PT pay/hour: \", round(six_h,2))\n",
        "print(\"Avg pay/hour: \", round(six_i,2))"
      ],
      "execution_count": 122,
      "outputs": [
        {
          "output_type": "stream",
          "text": [
            "Median FT pay/meal:  60.38\n",
            "Median PT pay/meal:  19.2\n",
            "Avg pay/meal:  51.42\n",
            "Median FT pay/meal:  6.38\n",
            "Median PT pay/meal:  2.29\n",
            "Avg pay/meal:  5.72\n",
            "median FT pay/hour:  46.04\n",
            "Median PT pay/hour:  13.28\n",
            "Avg pay/hour:  39.67\n"
          ],
          "name": "stdout"
        }
      ]
    }
  ]
}